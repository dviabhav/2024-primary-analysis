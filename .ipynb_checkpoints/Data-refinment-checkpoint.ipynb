{
 "cells": [
  {
   "cell_type": "code",
   "execution_count": 1,
   "id": "60bef38c-4eda-4434-af3b-3d18fbc91164",
   "metadata": {
    "tags": []
   },
   "outputs": [],
   "source": [
    "import numpy as np # linear algebra\n",
    "import pandas as pd # data processing, CSV file I/O (e.g. pd.read_csv)\n",
    "import datetime as dt\n",
    "# Input data files are available in the \"../input/\" directory.\n",
    "# For example, running this (by clicking run or pressing Shift+Enter) will list all files under the input directory\n",
    "import matplotlib.pyplot as plt\n",
    "import os\n",
    "from pathlib import Path\n",
    "import time"
   ]
  },
  {
   "cell_type": "code",
   "execution_count": 2,
   "id": "835da74b-9b4f-4538-8a09-5bdefba19c54",
   "metadata": {
    "tags": []
   },
   "outputs": [],
   "source": [
    "path = './michigan-text-file'\n",
    "datas_michigan = {}\n",
    "dtype_mapping = {'OfficeCode(text)' : str, 'DistrictCode(Text)': str, 'CountyCode':str}\n",
    "\n",
    "for f in os.scandir(path):\n",
    "    filepath = str(Path(f))\n",
    "    \n",
    "    #infer year from file name\n",
    "    y = int(filepath.split('\\\\')[1].split(\"P\")[0])\n",
    "    \n",
    "    #Skipfotter as fotter is a row with results, and nan for all columns\n",
    "    df = pd.read_csv(filepath, sep='\\t', dtype = dtype_mapping, skipfooter = 1, engine = 'python')\n",
    "    \n",
    "    #remove 'text' from column names\n",
    "    \n",
    "    df.rename(columns = {'OfficeCode(text)':'OfficeCode', 'DistrictCode(Text)':'DistrictCode'}, inplace = True)\n",
    "    \n",
    "    #concacting candidate name into a single column, making sure a NaN values doesnt result in NaN value for \n",
    "    #candidate name row.\n",
    "    df['CandidateFirstName'].fillna(\"\", inplace = True)\n",
    "    df['CandidateMiddleName'].fillna(\"\", inplace = True)\n",
    "    df['CandidateLastName'].fillna(\"\", inplace = True)\n",
    "    \n",
    "    df['CandidateName'] = df['CandidateFirstName'] + ' ' + df['CandidateMiddleName'] + ' ' + df['CandidateLastName']\n",
    "    \n",
    "    #Candidate Former Name columns is NaN for all present files, hence we can drop it.\n",
    "    #Status Code irrelevant to analysis\n",
    "    df.drop(columns = ['CandidateFirstName', 'CandidateMiddleName', 'CandidateLastName', 'CandidateFormerName', 'StatusCode'], inplace = True)\n",
    "    \n",
    "    datas_michigan[y] = df\n"
   ]
  },
  {
   "cell_type": "code",
   "execution_count": 3,
   "id": "9a1aa7a9-d7f5-462e-8297-aa28e95aea9b",
   "metadata": {
    "tags": []
   },
   "outputs": [
    {
     "name": "stdout",
     "output_type": "stream",
     "text": [
      "<class 'pandas.core.frame.DataFrame'>\n",
      "RangeIndex: 2700 entries, 0 to 2699\n",
      "Data columns (total 14 columns):\n",
      " #   Column                     Non-Null Count  Dtype  \n",
      "---  ------                     --------------  -----  \n",
      " 0   ElectionDate               2700 non-null   object \n",
      " 1   OfficeCode                 2700 non-null   object \n",
      " 2   DistrictCode               2700 non-null   object \n",
      " 3   CountyCode                 2700 non-null   object \n",
      " 4   CountyName                 2700 non-null   object \n",
      " 5   OfficeDescription          2700 non-null   object \n",
      " 6   PartyOrder                 2700 non-null   int64  \n",
      " 7   PartyDescription           2700 non-null   object \n",
      " 8   CandidateID                2700 non-null   int64  \n",
      " 9   CandidateVotes             2700 non-null   int64  \n",
      " 10  WriteIn(W)/Uncommitted(Z)  360 non-null    object \n",
      " 11  Recount(*)                 0 non-null      float64\n",
      " 12  Nomindated(N)/Elected(E)   0 non-null      float64\n",
      " 13  CandidateName              2700 non-null   object \n",
      "dtypes: float64(2), int64(3), object(9)\n",
      "memory usage: 295.4+ KB\n"
     ]
    }
   ],
   "source": [
    "datas_michigan[2008].info()"
   ]
  },
  {
   "cell_type": "code",
   "execution_count": 4,
   "id": "4b1db01e-c1c7-4aee-b68e-fee92b29efd9",
   "metadata": {
    "tags": []
   },
   "outputs": [
    {
     "name": "stdout",
     "output_type": "stream",
     "text": [
      "2000\n",
      "---------------------\n",
      "2008\n",
      "---------------------\n",
      "2012\n",
      "29th District Representative in State Legislature Partial Term Ending 01/01/2013 (1) Position Files In OAKLAND County\n",
      "51st District Representative in State Legislature Partial Term Ending 01/01/2013 (1) Position\n",
      "---------------------\n",
      "2016\n",
      "75th District Representative in State Legislature Partial Term Ending 01/01/2017 (1) Position Files In KENT County\n",
      "80th District Representative in State Legislature Partial Term Ending 01/01/2017 (1) Position Files In ALLEGAN County\n",
      "82nd District Representative in State Legislature Partial Term Ending 01/01/2017 (1) Position Files In LAPEER County\n",
      "Combined District 13 and 14 Supplement to Returns\n",
      "---------------------\n",
      "2020\n",
      "---------------------\n",
      "2024\n",
      "---------------------\n"
     ]
    }
   ],
   "source": [
    "#Some races mentioned in some years are not presidential, here we print those races\n",
    "\n",
    "for y in datas_michigan.keys():\n",
    "    print(y)\n",
    "    for s in datas_michigan[y].OfficeDescription.unique():\n",
    "        if 'President' not in s and 'PRESIDENT' not in s:\n",
    "            print(s)\n",
    "    print(\"---------------------\")"
   ]
  },
  {
   "cell_type": "code",
   "execution_count": null,
   "id": "9e48ff71-bea0-44d7-aa51-93b9b480e375",
   "metadata": {},
   "outputs": [],
   "source": []
  }
 ],
 "metadata": {
  "kernelspec": {
   "display_name": "Python 3 (ipykernel)",
   "language": "python",
   "name": "python3"
  },
  "language_info": {
   "codemirror_mode": {
    "name": "ipython",
    "version": 3
   },
   "file_extension": ".py",
   "mimetype": "text/x-python",
   "name": "python",
   "nbconvert_exporter": "python",
   "pygments_lexer": "ipython3",
   "version": "3.11.5"
  }
 },
 "nbformat": 4,
 "nbformat_minor": 5
}
